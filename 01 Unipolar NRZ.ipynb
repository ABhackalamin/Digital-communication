{
 "cells": [
  {
   "cell_type": "code",
   "execution_count": null,
   "metadata": {},
   "outputs": [],
   "source": [
    "import numpy as np\n",
    "import matplotlib.pyplot as plt\n",
    "# Generate random binary sequence\n",
    "N = 15\n",
    "#for random\n",
    "#binary_sequence = np.random.randint(2, size=N)\n",
    "#given input\n",
    "binary_sequence = [0, 0, 1, 0, 0, 0, 1, 1, 1, 0, 1, 1, 0, 1, 0]\n",
    "print('The binary sequence is', binary_sequence)\n",
    "# Generate time axis\n",
    "t = np.linspace(0, N, N*100)  # Time axis with finer resolution\n",
    "\n",
    "# Create Unipolar NRZ waveform\n",
    "unipolar_nrz_waveform = np.repeat(binary_sequence, 100)  # Repeat each bit 100 times\n",
    "\n",
    "# Plot the waveform\n",
    "plt.figure(1)\n",
    "plt.plot(t, unipolar_nrz_waveform, linewidth=2, color='red')\n",
    "plt.ylim(-0.5, 1.5)  # Set y-axis limits\n",
    "plt.xlabel('Time')\n",
    "plt.ylabel('Voltage')\n",
    "plt.title('Unipolar NRZ Signaling')\n",
    "plt.grid(True)\n",
    "plt.show()\n"
   ]
  }
 ],
 "metadata": {
  "language_info": {
   "name": "python"
  }
 },
 "nbformat": 4,
 "nbformat_minor": 2
}
