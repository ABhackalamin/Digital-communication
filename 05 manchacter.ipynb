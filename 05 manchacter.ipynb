{
 "cells": [
  {
   "cell_type": "code",
   "execution_count": null,
   "metadata": {},
   "outputs": [],
   "source": [
    "import numpy as np\n",
    "import matplotlib.pyplot as plt\n",
    "\n",
    "N = 5\n",
    "binary_seq = np.random.randint(2, size=N)\n",
    "print(\"Binary sequence:\", binary_seq)\n",
    "\n",
    "# Convert the binary sequence to Manchester code\n",
    "manchester_code = []\n",
    "for bit in binary_seq:\n",
    "    if bit == 0:\n",
    "        manchester_code.extend([-1, 1])\n",
    "    else:\n",
    "        manchester_code.extend([1, -1])\n",
    "\n",
    "# Shaping the code\n",
    "i = 0\n",
    "b = 0.5\n",
    "t = np.linspace(0, N, N * 100)  # Creating time axis\n",
    "y = []\n",
    "for j in range(len(t)):\n",
    "    if t[j] <= b:\n",
    "        y.append(manchester_code[i])\n",
    "    else:\n",
    "        y.append(manchester_code[i])\n",
    "        i += 1\n",
    "        b += 0.5\n",
    "\n",
    "plt.figure(1)\n",
    "plt.plot(t, y, linewidth=2, color='red')\n",
    "plt.ylim(-1.5, 1.5)\n",
    "plt.xlabel(\"Time\")\n",
    "plt.ylabel(\"Voltage\")\n",
    "plt.title(\"Manchester Code\")\n",
    "plt.grid(True)\n",
    "plt.show()\n"
   ]
  }
 ],
 "metadata": {
  "language_info": {
   "name": "python"
  }
 },
 "nbformat": 4,
 "nbformat_minor": 2
}
